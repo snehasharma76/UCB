{
  "nbformat": 4,
  "nbformat_minor": 0,
  "metadata": {
    "colab": {
      "name": "UCB.ipynb",
      "provenance": [],
      "collapsed_sections": [],
      "authorship_tag": "ABX9TyPXdPXtn6Tdd1hMcyYiTBR1",
      "include_colab_link": true
    },
    "kernelspec": {
      "name": "python3",
      "display_name": "Python 3"
    },
    "language_info": {
      "name": "python"
    }
  },
  "cells": [
    {
      "cell_type": "markdown",
      "metadata": {
        "id": "view-in-github",
        "colab_type": "text"
      },
      "source": [
        "<a href=\"https://colab.research.google.com/github/snehasharma76/UCB/blob/main/UCB.ipynb\" target=\"_parent\"><img src=\"https://colab.research.google.com/assets/colab-badge.svg\" alt=\"Open In Colab\"/></a>"
      ]
    },
    {
      "cell_type": "markdown",
      "metadata": {
        "id": "JpMmx-M9noU3"
      },
      "source": [
        "##Import Library"
      ]
    },
    {
      "cell_type": "code",
      "metadata": {
        "id": "Oaays-ACTI80"
      },
      "source": [
        "import numpy as np\n",
        "import matplotlib.pyplot as plt\n",
        "import pandas as pd"
      ],
      "execution_count": null,
      "outputs": []
    },
    {
      "cell_type": "markdown",
      "metadata": {
        "id": "G9i37jjFnnSe"
      },
      "source": [
        "##Import Dataset"
      ]
    },
    {
      "cell_type": "code",
      "metadata": {
        "id": "bIIQbQbLTdxH"
      },
      "source": [
        "dataset = pd.read_csv('data.csv')"
      ],
      "execution_count": null,
      "outputs": []
    },
    {
      "cell_type": "markdown",
      "metadata": {
        "id": "sSSvL-Wynv54"
      },
      "source": [
        "##Implementing UCB"
      ]
    },
    {
      "cell_type": "code",
      "metadata": {
        "id": "n1ArSuJATs22"
      },
      "source": [
        "import math\n",
        "N = 50000\n",
        "d = 8\n",
        "retailers = []\n",
        "retailer_selected = [0]*d\n",
        "sum_of_rewards = [0]*d\n",
        "total_reward = 0\n",
        "for n in range(0, N):\n",
        "  retailer = 0\n",
        "  max_upper_bound = 0\n",
        "  for i in range(0, d):\n",
        "    if(retailer_selected[i]>0):\n",
        "      average_reward = sum_of_rewards[i] / retailer_selected[i]\n",
        "      delta_i = math.sqrt(3/2*math.log(n+1)/retailer_selected[i])\n",
        "      upper_bound = average_reward + delta_i\n",
        "    else:\n",
        "        upper_bound = 1e400\n",
        "    if(upper_bound > max_upper_bound):\n",
        "          max_upper_bound = upper_bound\n",
        "          retailer = i\n",
        "  retailers.append(retailer)\n",
        "  retailer_selected[retailer] = retailer_selected[retailer] + 1\n",
        "  reward = dataset.values[n , retailer]\n",
        "  sum_of_rewards[retailer] =  sum_of_rewards[retailer]+ reward\n",
        "  total_reward = total_reward + reward"
      ],
      "execution_count": null,
      "outputs": []
    },
    {
      "cell_type": "code",
      "metadata": {
        "colab": {
          "base_uri": "https://localhost:8080/"
        },
        "id": "I6_DaOuabYxj",
        "outputId": "e1c645b9-bcb2-4e30-883c-27d9d6d2cd91"
      },
      "source": [
        "print(retailer_selected)"
      ],
      "execution_count": null,
      "outputs": [
        {
          "output_type": "stream",
          "text": [
            "[4, 3, 178, 3, 33370, 2, 16302, 138]\n"
          ],
          "name": "stdout"
        }
      ]
    },
    {
      "cell_type": "markdown",
      "metadata": {
        "id": "Y4xvcBPcn888"
      },
      "source": [
        "##Visualising the results"
      ]
    },
    {
      "cell_type": "code",
      "metadata": {
        "colab": {
          "base_uri": "https://localhost:8080/",
          "height": 295
        },
        "id": "J5sYznhZXrAB",
        "outputId": "04287010-7d50-4048-d279-ca77746f77fd"
      },
      "source": [
        "plt.hist(retailers)\n",
        "plt.xlabel('retailer')\n",
        "plt.ylabel('No. of times retailer was selected')\n",
        "plt.title('Histogram, of retailer selection')\n",
        "plt.show()"
      ],
      "execution_count": null,
      "outputs": [
        {
          "output_type": "display_data",
          "data": {
            "image/png": "[encoded data removed]",
            "text/plain": [
              "<Figure size 432x288 with 1 Axes>"
            ]
          },
          "metadata": {
            "tags": [],
            "needs_background": "light"
          }
        }
      ]
    }
  ]
}